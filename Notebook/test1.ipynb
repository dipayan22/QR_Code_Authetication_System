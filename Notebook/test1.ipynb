{
 "cells": [
  {
   "cell_type": "code",
   "execution_count": null,
   "metadata": {},
   "outputs": [],
   "source": []
  },
  {
   "cell_type": "code",
   "execution_count": 2,
   "metadata": {},
   "outputs": [],
   "source": [
    "import os\n",
    "import cv2\n",
    "import numpy as np\n",
    "from sklearn.model_selection import train_test_split\n",
    "import matplotlib.pyplot as plt\n"
   ]
  },
  {
   "cell_type": "code",
   "execution_count": 5,
   "metadata": {},
   "outputs": [],
   "source": [
    "DATA_DIR = \"./../Data/\"\n",
    "CATEGORIES = [\"first_print\", \"second_print\"]  # Adjust category names if needed\n",
    "IMG_SIZE = 128  # Resize images to 128x128"
   ]
  },
  {
   "cell_type": "code",
   "execution_count": 8,
   "metadata": {},
   "outputs": [],
   "source": [
    "def load_data():\n",
    "    X, y = [], []\n",
    "    for category in CATEGORIES:\n",
    "        path = os.path.join(DATA_DIR, category)\n",
    "        label = CATEGORIES.index(category)\n",
    "        for img_name in os.listdir(path):\n",
    "            img_path = os.path.join(path, img_name)\n",
    "            image = cv2.imread(img_path, cv2.IMREAD_GRAYSCALE)  # Convert to grayscale\n",
    "            image = cv2.resize(image, (IMG_SIZE, IMG_SIZE))\n",
    "            X.append(image)\n",
    "            y.append(label)\n",
    "    return np.array(X), np.array(y)\n",
    "\n",
    "X, y = load_data()\n",
    "X = X.reshape(-1, IMG_SIZE, IMG_SIZE, 1)"
   ]
  },
  {
   "cell_type": "code",
   "execution_count": 9,
   "metadata": {},
   "outputs": [],
   "source": [
    "# Split into training and testing sets\n",
    "X_train, X_test, y_train, y_test = train_test_split(X, y, test_size=0.2, random_state=42)\n",
    "\n"
   ]
  },
  {
   "cell_type": "code",
   "execution_count": 10,
   "metadata": {},
   "outputs": [],
   "source": [
    "## Section 2: Build CNN Model\n",
    "import tensorflow as tf\n",
    "from tensorflow import keras\n",
    "from tensorflow.keras import layers\n",
    "\n",
    "model = keras.Sequential([\n",
    "    layers.Conv2D(32, (3,3), activation='relu', input_shape=(IMG_SIZE, IMG_SIZE, 1)),\n",
    "    layers.MaxPooling2D(2,2),\n",
    "    layers.Conv2D(64, (3,3), activation='relu'),\n",
    "    layers.MaxPooling2D(2,2),\n",
    "    layers.Conv2D(128, (3,3), activation='relu'),\n",
    "    layers.MaxPooling2D(2,2),\n",
    "    layers.Flatten(),\n",
    "    layers.Dense(128, activation='relu'),\n",
    "    layers.Dropout(0.5),\n",
    "    layers.Dense(1, activation='sigmoid')\n",
    "])"
   ]
  },
  {
   "cell_type": "code",
   "execution_count": 11,
   "metadata": {},
   "outputs": [],
   "source": [
    "model.compile(optimizer='adam', loss='binary_crossentropy', metrics=['accuracy'])\n"
   ]
  },
  {
   "cell_type": "code",
   "execution_count": 12,
   "metadata": {},
   "outputs": [
    {
     "name": "stdout",
     "output_type": "stream",
     "text": [
      "Epoch 1/10\n",
      "5/5 [==============================] - 3s 471ms/step - loss: 59.8855 - accuracy: 0.5063 - val_loss: 4.2530 - val_accuracy: 0.5250\n",
      "Epoch 2/10\n",
      "5/5 [==============================] - 2s 410ms/step - loss: 3.6741 - accuracy: 0.4625 - val_loss: 0.5578 - val_accuracy: 0.7250\n",
      "Epoch 3/10\n",
      "5/5 [==============================] - 2s 411ms/step - loss: 0.4371 - accuracy: 0.7750 - val_loss: 0.3584 - val_accuracy: 0.8250\n",
      "Epoch 4/10\n",
      "5/5 [==============================] - 2s 401ms/step - loss: 0.2742 - accuracy: 0.8938 - val_loss: 0.1871 - val_accuracy: 0.9500\n",
      "Epoch 5/10\n",
      "5/5 [==============================] - 2s 396ms/step - loss: 0.1619 - accuracy: 0.9312 - val_loss: 0.1156 - val_accuracy: 0.9750\n",
      "Epoch 6/10\n",
      "5/5 [==============================] - 2s 399ms/step - loss: 0.1276 - accuracy: 0.9500 - val_loss: 0.1788 - val_accuracy: 0.8750\n",
      "Epoch 7/10\n",
      "5/5 [==============================] - 2s 398ms/step - loss: 0.0461 - accuracy: 0.9937 - val_loss: 0.0741 - val_accuracy: 0.9750\n",
      "Epoch 8/10\n",
      "5/5 [==============================] - 2s 415ms/step - loss: 0.0860 - accuracy: 0.9688 - val_loss: 0.0927 - val_accuracy: 0.9500\n",
      "Epoch 9/10\n",
      "5/5 [==============================] - 2s 404ms/step - loss: 0.0352 - accuracy: 0.9875 - val_loss: 0.0463 - val_accuracy: 1.0000\n",
      "Epoch 10/10\n",
      "5/5 [==============================] - 2s 417ms/step - loss: 0.0202 - accuracy: 1.0000 - val_loss: 0.0453 - val_accuracy: 1.0000\n"
     ]
    }
   ],
   "source": [
    "## Section 3: Train Model\n",
    "history = model.fit(X_train, y_train, epochs=10, validation_data=(X_test, y_test), batch_size=32)\n"
   ]
  },
  {
   "cell_type": "code",
   "execution_count": 13,
   "metadata": {},
   "outputs": [
    {
     "name": "stdout",
     "output_type": "stream",
     "text": [
      "2/2 [==============================] - 0s 19ms/step\n",
      "              precision    recall  f1-score   support\n",
      "\n",
      "           0       1.00      1.00      1.00        21\n",
      "           1       1.00      1.00      1.00        19\n",
      "\n",
      "    accuracy                           1.00        40\n",
      "   macro avg       1.00      1.00      1.00        40\n",
      "weighted avg       1.00      1.00      1.00        40\n",
      "\n",
      "[[21  0]\n",
      " [ 0 19]]\n"
     ]
    }
   ],
   "source": [
    "## Section 4: Evaluate Model\n",
    "from sklearn.metrics import classification_report, confusion_matrix\n",
    "\n",
    "y_pred = (model.predict(X_test) > 0.5).astype(int)\n",
    "print(classification_report(y_test, y_pred))\n",
    "print(confusion_matrix(y_test, y_pred))\n"
   ]
  },
  {
   "cell_type": "code",
   "execution_count": 14,
   "metadata": {},
   "outputs": [
    {
     "data": {
      "image/png": "[encoded data removed]",
      "text/plain": [
       "<Figure size 640x480 with 1 Axes>"
      ]
     },
     "metadata": {},
     "output_type": "display_data"
    }
   ],
   "source": [
    "## Section 6: Plot Training History\n",
    "plt.plot(history.history['accuracy'], label='Train Accuracy')\n",
    "plt.plot(history.history['val_accuracy'], label='Val Accuracy')\n",
    "plt.legend()\n",
    "plt.show()"
   ]
  },
  {
   "cell_type": "code",
   "execution_count": 19,
   "metadata": {},
   "outputs": [
    {
     "name": "stdout",
     "output_type": "stream",
     "text": [
      "1/1 [==============================] - 0s 21ms/step\n",
      "Prediction: First Print (Original)\n"
     ]
    }
   ],
   "source": [
    "## Section 8: Test Model on New Images\n",
    "## Section 8: Test Model on New Images\n",
    "def predict_qr_code(image_path, model):\n",
    "    if not os.path.exists(image_path):\n",
    "        print(f\"Error: File not found - {image_path}\")\n",
    "        return\n",
    "    \n",
    "    image = cv2.imread(image_path, cv2.IMREAD_GRAYSCALE)\n",
    "    if image is None:\n",
    "        print(f\"Error: Unable to load image - {image_path}\")\n",
    "        return\n",
    "    \n",
    "    image = cv2.resize(image, (IMG_SIZE, IMG_SIZE))\n",
    "    image = image.reshape(1, IMG_SIZE, IMG_SIZE, 1) / 255.0  # Normalize\n",
    "    prediction = model.predict(image)[0][0]\n",
    "    label = \"First Print (Original)\" if prediction < 0.5 else \"Second Print (Counterfeit)\"\n",
    "    print(f\"Prediction: {label}\")\n",
    "\n",
    "\n",
    "# Example usage\n",
    "test_image_path = \"./../Data/first_print/input_image_active.png\"\n",
    "predict_qr_code(test_image_path, model)"
   ]
  },
  {
   "cell_type": "code",
   "execution_count": 20,
   "metadata": {},
   "outputs": [],
   "source": [
    "## Section 5: Save Model\n",
    "model.save(\"qr_code_authentication_model.h5\")"
   ]
  },
  {
   "cell_type": "code",
   "execution_count": null,
   "metadata": {},
   "outputs": [],
   "source": []
  }
 ],
 "metadata": {
  "kernelspec": {
   "display_name": "Python 3",
   "language": "python",
   "name": "python3"
  },
  "language_info": {
   "codemirror_mode": {
    "name": "ipython",
    "version": 3
   },
   "file_extension": ".py",
   "mimetype": "text/x-python",
   "name": "python",
   "nbconvert_exporter": "python",
   "pygments_lexer": "ipython3",
   "version": "3.8.0"
  }
 },
 "nbformat": 4,
 "nbformat_minor": 2
}
